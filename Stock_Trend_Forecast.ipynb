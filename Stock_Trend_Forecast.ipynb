{
  "nbformat": 4,
  "nbformat_minor": 0,
  "metadata": {
    "colab": {
      "provenance": [],
      "gpuType": "T4",
      "authorship_tag": "ABX9TyMOk9Clpcbm+tLwsHd9FDhy",
      "include_colab_link": true
    },
    "kernelspec": {
      "name": "python3",
      "display_name": "Python 3"
    },
    "language_info": {
      "name": "python"
    },
    "accelerator": "GPU"
  },
  "cells": [
    {
      "cell_type": "markdown",
      "metadata": {
        "id": "view-in-github",
        "colab_type": "text"
      },
      "source": [
        "<a href=\"https://colab.research.google.com/github/YugantGotmare/Stock_Trend_Forecast/blob/main/Stock_Trend_Forecast.ipynb\" target=\"_parent\"><img src=\"https://colab.research.google.com/assets/colab-badge.svg\" alt=\"Open In Colab\"/></a>"
      ]
    },
    {
      "cell_type": "code",
      "source": [
        "import yfinance as yf\n",
        "import pandas as pd\n",
        "import os"
      ],
      "metadata": {
        "id": "EGoDvqzLHlar"
      },
      "execution_count": 35,
      "outputs": []
    },
    {
      "cell_type": "code",
      "source": [
        "df = yf.Ticker(\"^GSPC\")\n",
        "df = df.history(period=\"max\")\n",
        "df.index = pd.to_datetime(df.index)\n",
        "df.index = pd.to_datetime(df.index).date\n",
        "df = df.rename_axis('Date')"
      ],
      "metadata": {
        "id": "etR4266zHlXp"
      },
      "execution_count": 36,
      "outputs": []
    },
    {
      "cell_type": "code",
      "source": [
        "df.head()"
      ],
      "metadata": {
        "colab": {
          "base_uri": "https://localhost:8080/",
          "height": 237
        },
        "id": "A4j-lFW2HlVW",
        "outputId": "a0a21493-df7b-4a6c-867a-c3e3cf53795e"
      },
      "execution_count": 37,
      "outputs": [
        {
          "output_type": "execute_result",
          "data": {
            "text/plain": [
              "                 Open       High        Low      Close  Volume  Dividends  \\\n",
              "Date                                                                        \n",
              "1927-12-30  17.660000  17.660000  17.660000  17.660000       0        0.0   \n",
              "1928-01-03  17.760000  17.760000  17.760000  17.760000       0        0.0   \n",
              "1928-01-04  17.719999  17.719999  17.719999  17.719999       0        0.0   \n",
              "1928-01-05  17.549999  17.549999  17.549999  17.549999       0        0.0   \n",
              "1928-01-06  17.660000  17.660000  17.660000  17.660000       0        0.0   \n",
              "\n",
              "            Stock Splits  \n",
              "Date                      \n",
              "1927-12-30           0.0  \n",
              "1928-01-03           0.0  \n",
              "1928-01-04           0.0  \n",
              "1928-01-05           0.0  \n",
              "1928-01-06           0.0  "
            ],
            "text/html": [
              "\n",
              "  <div id=\"df-bebc46a7-dfae-4760-8ce9-83906518e156\">\n",
              "    <div class=\"colab-df-container\">\n",
              "      <div>\n",
              "<style scoped>\n",
              "    .dataframe tbody tr th:only-of-type {\n",
              "        vertical-align: middle;\n",
              "    }\n",
              "\n",
              "    .dataframe tbody tr th {\n",
              "        vertical-align: top;\n",
              "    }\n",
              "\n",
              "    .dataframe thead th {\n",
              "        text-align: right;\n",
              "    }\n",
              "</style>\n",
              "<table border=\"1\" class=\"dataframe\">\n",
              "  <thead>\n",
              "    <tr style=\"text-align: right;\">\n",
              "      <th></th>\n",
              "      <th>Open</th>\n",
              "      <th>High</th>\n",
              "      <th>Low</th>\n",
              "      <th>Close</th>\n",
              "      <th>Volume</th>\n",
              "      <th>Dividends</th>\n",
              "      <th>Stock Splits</th>\n",
              "    </tr>\n",
              "    <tr>\n",
              "      <th>Date</th>\n",
              "      <th></th>\n",
              "      <th></th>\n",
              "      <th></th>\n",
              "      <th></th>\n",
              "      <th></th>\n",
              "      <th></th>\n",
              "      <th></th>\n",
              "    </tr>\n",
              "  </thead>\n",
              "  <tbody>\n",
              "    <tr>\n",
              "      <th>1927-12-30</th>\n",
              "      <td>17.660000</td>\n",
              "      <td>17.660000</td>\n",
              "      <td>17.660000</td>\n",
              "      <td>17.660000</td>\n",
              "      <td>0</td>\n",
              "      <td>0.0</td>\n",
              "      <td>0.0</td>\n",
              "    </tr>\n",
              "    <tr>\n",
              "      <th>1928-01-03</th>\n",
              "      <td>17.760000</td>\n",
              "      <td>17.760000</td>\n",
              "      <td>17.760000</td>\n",
              "      <td>17.760000</td>\n",
              "      <td>0</td>\n",
              "      <td>0.0</td>\n",
              "      <td>0.0</td>\n",
              "    </tr>\n",
              "    <tr>\n",
              "      <th>1928-01-04</th>\n",
              "      <td>17.719999</td>\n",
              "      <td>17.719999</td>\n",
              "      <td>17.719999</td>\n",
              "      <td>17.719999</td>\n",
              "      <td>0</td>\n",
              "      <td>0.0</td>\n",
              "      <td>0.0</td>\n",
              "    </tr>\n",
              "    <tr>\n",
              "      <th>1928-01-05</th>\n",
              "      <td>17.549999</td>\n",
              "      <td>17.549999</td>\n",
              "      <td>17.549999</td>\n",
              "      <td>17.549999</td>\n",
              "      <td>0</td>\n",
              "      <td>0.0</td>\n",
              "      <td>0.0</td>\n",
              "    </tr>\n",
              "    <tr>\n",
              "      <th>1928-01-06</th>\n",
              "      <td>17.660000</td>\n",
              "      <td>17.660000</td>\n",
              "      <td>17.660000</td>\n",
              "      <td>17.660000</td>\n",
              "      <td>0</td>\n",
              "      <td>0.0</td>\n",
              "      <td>0.0</td>\n",
              "    </tr>\n",
              "  </tbody>\n",
              "</table>\n",
              "</div>\n",
              "      <button class=\"colab-df-convert\" onclick=\"convertToInteractive('df-bebc46a7-dfae-4760-8ce9-83906518e156')\"\n",
              "              title=\"Convert this dataframe to an interactive table.\"\n",
              "              style=\"display:none;\">\n",
              "        \n",
              "  <svg xmlns=\"http://www.w3.org/2000/svg\" height=\"24px\"viewBox=\"0 0 24 24\"\n",
              "       width=\"24px\">\n",
              "    <path d=\"M0 0h24v24H0V0z\" fill=\"none\"/>\n",
              "    <path d=\"M18.56 5.44l.94 2.06.94-2.06 2.06-.94-2.06-.94-.94-2.06-.94 2.06-2.06.94zm-11 1L8.5 8.5l.94-2.06 2.06-.94-2.06-.94L8.5 2.5l-.94 2.06-2.06.94zm10 10l.94 2.06.94-2.06 2.06-.94-2.06-.94-.94-2.06-.94 2.06-2.06.94z\"/><path d=\"M17.41 7.96l-1.37-1.37c-.4-.4-.92-.59-1.43-.59-.52 0-1.04.2-1.43.59L10.3 9.45l-7.72 7.72c-.78.78-.78 2.05 0 2.83L4 21.41c.39.39.9.59 1.41.59.51 0 1.02-.2 1.41-.59l7.78-7.78 2.81-2.81c.8-.78.8-2.07 0-2.86zM5.41 20L4 18.59l7.72-7.72 1.47 1.35L5.41 20z\"/>\n",
              "  </svg>\n",
              "      </button>\n",
              "      \n",
              "  <style>\n",
              "    .colab-df-container {\n",
              "      display:flex;\n",
              "      flex-wrap:wrap;\n",
              "      gap: 12px;\n",
              "    }\n",
              "\n",
              "    .colab-df-convert {\n",
              "      background-color: #E8F0FE;\n",
              "      border: none;\n",
              "      border-radius: 50%;\n",
              "      cursor: pointer;\n",
              "      display: none;\n",
              "      fill: #1967D2;\n",
              "      height: 32px;\n",
              "      padding: 0 0 0 0;\n",
              "      width: 32px;\n",
              "    }\n",
              "\n",
              "    .colab-df-convert:hover {\n",
              "      background-color: #E2EBFA;\n",
              "      box-shadow: 0px 1px 2px rgba(60, 64, 67, 0.3), 0px 1px 3px 1px rgba(60, 64, 67, 0.15);\n",
              "      fill: #174EA6;\n",
              "    }\n",
              "\n",
              "    [theme=dark] .colab-df-convert {\n",
              "      background-color: #3B4455;\n",
              "      fill: #D2E3FC;\n",
              "    }\n",
              "\n",
              "    [theme=dark] .colab-df-convert:hover {\n",
              "      background-color: #434B5C;\n",
              "      box-shadow: 0px 1px 3px 1px rgba(0, 0, 0, 0.15);\n",
              "      filter: drop-shadow(0px 1px 2px rgba(0, 0, 0, 0.3));\n",
              "      fill: #FFFFFF;\n",
              "    }\n",
              "  </style>\n",
              "\n",
              "      <script>\n",
              "        const buttonEl =\n",
              "          document.querySelector('#df-bebc46a7-dfae-4760-8ce9-83906518e156 button.colab-df-convert');\n",
              "        buttonEl.style.display =\n",
              "          google.colab.kernel.accessAllowed ? 'block' : 'none';\n",
              "\n",
              "        async function convertToInteractive(key) {\n",
              "          const element = document.querySelector('#df-bebc46a7-dfae-4760-8ce9-83906518e156');\n",
              "          const dataTable =\n",
              "            await google.colab.kernel.invokeFunction('convertToInteractive',\n",
              "                                                     [key], {});\n",
              "          if (!dataTable) return;\n",
              "\n",
              "          const docLinkHtml = 'Like what you see? Visit the ' +\n",
              "            '<a target=\"_blank\" href=https://colab.research.google.com/notebooks/data_table.ipynb>data table notebook</a>'\n",
              "            + ' to learn more about interactive tables.';\n",
              "          element.innerHTML = '';\n",
              "          dataTable['output_type'] = 'display_data';\n",
              "          await google.colab.output.renderOutput(dataTable, element);\n",
              "          const docLink = document.createElement('div');\n",
              "          docLink.innerHTML = docLinkHtml;\n",
              "          element.appendChild(docLink);\n",
              "        }\n",
              "      </script>\n",
              "    </div>\n",
              "  </div>\n",
              "  "
            ]
          },
          "metadata": {},
          "execution_count": 37
        }
      ]
    },
    {
      "cell_type": "code",
      "source": [
        "df.index"
      ],
      "metadata": {
        "colab": {
          "base_uri": "https://localhost:8080/"
        },
        "id": "5K2YaYZ4HlSk",
        "outputId": "d70ea9d3-32d1-425f-e01c-9c6d275f8215"
      },
      "execution_count": 38,
      "outputs": [
        {
          "output_type": "execute_result",
          "data": {
            "text/plain": [
              "Index([1927-12-30, 1928-01-03, 1928-01-04, 1928-01-05, 1928-01-06, 1928-01-09,\n",
              "       1928-01-10, 1928-01-11, 1928-01-12, 1928-01-13,\n",
              "       ...\n",
              "       2023-06-01, 2023-06-02, 2023-06-05, 2023-06-06, 2023-06-07, 2023-06-08,\n",
              "       2023-06-09, 2023-06-12, 2023-06-13, 2023-06-14],\n",
              "      dtype='object', name='Date', length=23978)"
            ]
          },
          "metadata": {},
          "execution_count": 38
        }
      ]
    },
    {
      "cell_type": "code",
      "source": [
        "df.plot.line(y=\"Close\", use_index=True)"
      ],
      "metadata": {
        "colab": {
          "base_uri": "https://localhost:8080/",
          "height": 469
        },
        "id": "WXCIBnuZHlPp",
        "outputId": "bdc2927e-0be3-4aa3-b839-497fc1611686"
      },
      "execution_count": 39,
      "outputs": [
        {
          "output_type": "execute_result",
          "data": {
            "text/plain": [
              "<Axes: xlabel='Date'>"
            ]
          },
          "metadata": {},
          "execution_count": 39
        },
        {
          "output_type": "display_data",
          "data": {
            "text/plain": [
              "<Figure size 640x480 with 1 Axes>"
            ],
            "image/png": "[encoded data removed]"
          },
          "metadata": {}
        }
      ]
    },
    {
      "cell_type": "code",
      "source": [
        "del df[\"Dividends\"]\n",
        "del df[\"Stock Splits\"]\n",
        "del df[\"Volume\"]"
      ],
      "metadata": {
        "id": "Cz-htI_kHG6i"
      },
      "execution_count": 40,
      "outputs": []
    },
    {
      "cell_type": "code",
      "source": [
        "df[\"Tomorrow\"] = df[\"Close\"].shift(-1)\n",
        "df.head()"
      ],
      "metadata": {
        "colab": {
          "base_uri": "https://localhost:8080/",
          "height": 237
        },
        "id": "xuhLg2kuIuAJ",
        "outputId": "5d90d919-ed4e-4ace-c8a5-9fe9b04aea6e"
      },
      "execution_count": 41,
      "outputs": [
        {
          "output_type": "execute_result",
          "data": {
            "text/plain": [
              "                 Open       High        Low      Close   Tomorrow\n",
              "Date                                                             \n",
              "1927-12-30  17.660000  17.660000  17.660000  17.660000  17.760000\n",
              "1928-01-03  17.760000  17.760000  17.760000  17.760000  17.719999\n",
              "1928-01-04  17.719999  17.719999  17.719999  17.719999  17.549999\n",
              "1928-01-05  17.549999  17.549999  17.549999  17.549999  17.660000\n",
              "1928-01-06  17.660000  17.660000  17.660000  17.660000  17.500000"
            ],
            "text/html": [
              "\n",
              "  <div id=\"df-c08d65ef-dd49-4706-a1f1-fbe41017c9e9\">\n",
              "    <div class=\"colab-df-container\">\n",
              "      <div>\n",
              "<style scoped>\n",
              "    .dataframe tbody tr th:only-of-type {\n",
              "        vertical-align: middle;\n",
              "    }\n",
              "\n",
              "    .dataframe tbody tr th {\n",
              "        vertical-align: top;\n",
              "    }\n",
              "\n",
              "    .dataframe thead th {\n",
              "        text-align: right;\n",
              "    }\n",
              "</style>\n",
              "<table border=\"1\" class=\"dataframe\">\n",
              "  <thead>\n",
              "    <tr style=\"text-align: right;\">\n",
              "      <th></th>\n",
              "      <th>Open</th>\n",
              "      <th>High</th>\n",
              "      <th>Low</th>\n",
              "      <th>Close</th>\n",
              "      <th>Tomorrow</th>\n",
              "    </tr>\n",
              "    <tr>\n",
              "      <th>Date</th>\n",
              "      <th></th>\n",
              "      <th></th>\n",
              "      <th></th>\n",
              "      <th></th>\n",
              "      <th></th>\n",
              "    </tr>\n",
              "  </thead>\n",
              "  <tbody>\n",
              "    <tr>\n",
              "      <th>1927-12-30</th>\n",
              "      <td>17.660000</td>\n",
              "      <td>17.660000</td>\n",
              "      <td>17.660000</td>\n",
              "      <td>17.660000</td>\n",
              "      <td>17.760000</td>\n",
              "    </tr>\n",
              "    <tr>\n",
              "      <th>1928-01-03</th>\n",
              "      <td>17.760000</td>\n",
              "      <td>17.760000</td>\n",
              "      <td>17.760000</td>\n",
              "      <td>17.760000</td>\n",
              "      <td>17.719999</td>\n",
              "    </tr>\n",
              "    <tr>\n",
              "      <th>1928-01-04</th>\n",
              "      <td>17.719999</td>\n",
              "      <td>17.719999</td>\n",
              "      <td>17.719999</td>\n",
              "      <td>17.719999</td>\n",
              "      <td>17.549999</td>\n",
              "    </tr>\n",
              "    <tr>\n",
              "      <th>1928-01-05</th>\n",
              "      <td>17.549999</td>\n",
              "      <td>17.549999</td>\n",
              "      <td>17.549999</td>\n",
              "      <td>17.549999</td>\n",
              "      <td>17.660000</td>\n",
              "    </tr>\n",
              "    <tr>\n",
              "      <th>1928-01-06</th>\n",
              "      <td>17.660000</td>\n",
              "      <td>17.660000</td>\n",
              "      <td>17.660000</td>\n",
              "      <td>17.660000</td>\n",
              "      <td>17.500000</td>\n",
              "    </tr>\n",
              "  </tbody>\n",
              "</table>\n",
              "</div>\n",
              "      <button class=\"colab-df-convert\" onclick=\"convertToInteractive('df-c08d65ef-dd49-4706-a1f1-fbe41017c9e9')\"\n",
              "              title=\"Convert this dataframe to an interactive table.\"\n",
              "              style=\"display:none;\">\n",
              "        \n",
              "  <svg xmlns=\"http://www.w3.org/2000/svg\" height=\"24px\"viewBox=\"0 0 24 24\"\n",
              "       width=\"24px\">\n",
              "    <path d=\"M0 0h24v24H0V0z\" fill=\"none\"/>\n",
              "    <path d=\"M18.56 5.44l.94 2.06.94-2.06 2.06-.94-2.06-.94-.94-2.06-.94 2.06-2.06.94zm-11 1L8.5 8.5l.94-2.06 2.06-.94-2.06-.94L8.5 2.5l-.94 2.06-2.06.94zm10 10l.94 2.06.94-2.06 2.06-.94-2.06-.94-.94-2.06-.94 2.06-2.06.94z\"/><path d=\"M17.41 7.96l-1.37-1.37c-.4-.4-.92-.59-1.43-.59-.52 0-1.04.2-1.43.59L10.3 9.45l-7.72 7.72c-.78.78-.78 2.05 0 2.83L4 21.41c.39.39.9.59 1.41.59.51 0 1.02-.2 1.41-.59l7.78-7.78 2.81-2.81c.8-.78.8-2.07 0-2.86zM5.41 20L4 18.59l7.72-7.72 1.47 1.35L5.41 20z\"/>\n",
              "  </svg>\n",
              "      </button>\n",
              "      \n",
              "  <style>\n",
              "    .colab-df-container {\n",
              "      display:flex;\n",
              "      flex-wrap:wrap;\n",
              "      gap: 12px;\n",
              "    }\n",
              "\n",
              "    .colab-df-convert {\n",
              "      background-color: #E8F0FE;\n",
              "      border: none;\n",
              "      border-radius: 50%;\n",
              "      cursor: pointer;\n",
              "      display: none;\n",
              "      fill: #1967D2;\n",
              "      height: 32px;\n",
              "      padding: 0 0 0 0;\n",
              "      width: 32px;\n",
              "    }\n",
              "\n",
              "    .colab-df-convert:hover {\n",
              "      background-color: #E2EBFA;\n",
              "      box-shadow: 0px 1px 2px rgba(60, 64, 67, 0.3), 0px 1px 3px 1px rgba(60, 64, 67, 0.15);\n",
              "      fill: #174EA6;\n",
              "    }\n",
              "\n",
              "    [theme=dark] .colab-df-convert {\n",
              "      background-color: #3B4455;\n",
              "      fill: #D2E3FC;\n",
              "    }\n",
              "\n",
              "    [theme=dark] .colab-df-convert:hover {\n",
              "      background-color: #434B5C;\n",
              "      box-shadow: 0px 1px 3px 1px rgba(0, 0, 0, 0.15);\n",
              "      filter: drop-shadow(0px 1px 2px rgba(0, 0, 0, 0.3));\n",
              "      fill: #FFFFFF;\n",
              "    }\n",
              "  </style>\n",
              "\n",
              "      <script>\n",
              "        const buttonEl =\n",
              "          document.querySelector('#df-c08d65ef-dd49-4706-a1f1-fbe41017c9e9 button.colab-df-convert');\n",
              "        buttonEl.style.display =\n",
              "          google.colab.kernel.accessAllowed ? 'block' : 'none';\n",
              "\n",
              "        async function convertToInteractive(key) {\n",
              "          const element = document.querySelector('#df-c08d65ef-dd49-4706-a1f1-fbe41017c9e9');\n",
              "          const dataTable =\n",
              "            await google.colab.kernel.invokeFunction('convertToInteractive',\n",
              "                                                     [key], {});\n",
              "          if (!dataTable) return;\n",
              "\n",
              "          const docLinkHtml = 'Like what you see? Visit the ' +\n",
              "            '<a target=\"_blank\" href=https://colab.research.google.com/notebooks/data_table.ipynb>data table notebook</a>'\n",
              "            + ' to learn more about interactive tables.';\n",
              "          element.innerHTML = '';\n",
              "          dataTable['output_type'] = 'display_data';\n",
              "          await google.colab.output.renderOutput(dataTable, element);\n",
              "          const docLink = document.createElement('div');\n",
              "          docLink.innerHTML = docLinkHtml;\n",
              "          element.appendChild(docLink);\n",
              "        }\n",
              "      </script>\n",
              "    </div>\n",
              "  </div>\n",
              "  "
            ]
          },
          "metadata": {},
          "execution_count": 41
        }
      ]
    },
    {
      "cell_type": "code",
      "source": [
        "df[\"Target\"] = (df[\"Tomorrow\"] > df[\"Close\"]).astype(int)\n",
        "df.head()"
      ],
      "metadata": {
        "colab": {
          "base_uri": "https://localhost:8080/",
          "height": 237
        },
        "id": "fomDKadQJPNk",
        "outputId": "69bbcd5e-09df-4d79-e8f3-c2fb2559f451"
      },
      "execution_count": 42,
      "outputs": [
        {
          "output_type": "execute_result",
          "data": {
            "text/plain": [
              "                 Open       High        Low      Close   Tomorrow  Target\n",
              "Date                                                                     \n",
              "1927-12-30  17.660000  17.660000  17.660000  17.660000  17.760000       1\n",
              "1928-01-03  17.760000  17.760000  17.760000  17.760000  17.719999       0\n",
              "1928-01-04  17.719999  17.719999  17.719999  17.719999  17.549999       0\n",
              "1928-01-05  17.549999  17.549999  17.549999  17.549999  17.660000       1\n",
              "1928-01-06  17.660000  17.660000  17.660000  17.660000  17.500000       0"
            ],
            "text/html": [
              "\n",
              "  <div id=\"df-0b5a006b-572d-4314-a3bf-0caa2b00c01b\">\n",
              "    <div class=\"colab-df-container\">\n",
              "      <div>\n",
              "<style scoped>\n",
              "    .dataframe tbody tr th:only-of-type {\n",
              "        vertical-align: middle;\n",
              "    }\n",
              "\n",
              "    .dataframe tbody tr th {\n",
              "        vertical-align: top;\n",
              "    }\n",
              "\n",
              "    .dataframe thead th {\n",
              "        text-align: right;\n",
              "    }\n",
              "</style>\n",
              "<table border=\"1\" class=\"dataframe\">\n",
              "  <thead>\n",
              "    <tr style=\"text-align: right;\">\n",
              "      <th></th>\n",
              "      <th>Open</th>\n",
              "      <th>High</th>\n",
              "      <th>Low</th>\n",
              "      <th>Close</th>\n",
              "      <th>Tomorrow</th>\n",
              "      <th>Target</th>\n",
              "    </tr>\n",
              "    <tr>\n",
              "      <th>Date</th>\n",
              "      <th></th>\n",
              "      <th></th>\n",
              "      <th></th>\n",
              "      <th></th>\n",
              "      <th></th>\n",
              "      <th></th>\n",
              "    </tr>\n",
              "  </thead>\n",
              "  <tbody>\n",
              "    <tr>\n",
              "      <th>1927-12-30</th>\n",
              "      <td>17.660000</td>\n",
              "      <td>17.660000</td>\n",
              "      <td>17.660000</td>\n",
              "      <td>17.660000</td>\n",
              "      <td>17.760000</td>\n",
              "      <td>1</td>\n",
              "    </tr>\n",
              "    <tr>\n",
              "      <th>1928-01-03</th>\n",
              "      <td>17.760000</td>\n",
              "      <td>17.760000</td>\n",
              "      <td>17.760000</td>\n",
              "      <td>17.760000</td>\n",
              "      <td>17.719999</td>\n",
              "      <td>0</td>\n",
              "    </tr>\n",
              "    <tr>\n",
              "      <th>1928-01-04</th>\n",
              "      <td>17.719999</td>\n",
              "      <td>17.719999</td>\n",
              "      <td>17.719999</td>\n",
              "      <td>17.719999</td>\n",
              "      <td>17.549999</td>\n",
              "      <td>0</td>\n",
              "    </tr>\n",
              "    <tr>\n",
              "      <th>1928-01-05</th>\n",
              "      <td>17.549999</td>\n",
              "      <td>17.549999</td>\n",
              "      <td>17.549999</td>\n",
              "      <td>17.549999</td>\n",
              "      <td>17.660000</td>\n",
              "      <td>1</td>\n",
              "    </tr>\n",
              "    <tr>\n",
              "      <th>1928-01-06</th>\n",
              "      <td>17.660000</td>\n",
              "      <td>17.660000</td>\n",
              "      <td>17.660000</td>\n",
              "      <td>17.660000</td>\n",
              "      <td>17.500000</td>\n",
              "      <td>0</td>\n",
              "    </tr>\n",
              "  </tbody>\n",
              "</table>\n",
              "</div>\n",
              "      <button class=\"colab-df-convert\" onclick=\"convertToInteractive('df-0b5a006b-572d-4314-a3bf-0caa2b00c01b')\"\n",
              "              title=\"Convert this dataframe to an interactive table.\"\n",
              "              style=\"display:none;\">\n",
              "        \n",
              "  <svg xmlns=\"http://www.w3.org/2000/svg\" height=\"24px\"viewBox=\"0 0 24 24\"\n",
              "       width=\"24px\">\n",
              "    <path d=\"M0 0h24v24H0V0z\" fill=\"none\"/>\n",
              "    <path d=\"M18.56 5.44l.94 2.06.94-2.06 2.06-.94-2.06-.94-.94-2.06-.94 2.06-2.06.94zm-11 1L8.5 8.5l.94-2.06 2.06-.94-2.06-.94L8.5 2.5l-.94 2.06-2.06.94zm10 10l.94 2.06.94-2.06 2.06-.94-2.06-.94-.94-2.06-.94 2.06-2.06.94z\"/><path d=\"M17.41 7.96l-1.37-1.37c-.4-.4-.92-.59-1.43-.59-.52 0-1.04.2-1.43.59L10.3 9.45l-7.72 7.72c-.78.78-.78 2.05 0 2.83L4 21.41c.39.39.9.59 1.41.59.51 0 1.02-.2 1.41-.59l7.78-7.78 2.81-2.81c.8-.78.8-2.07 0-2.86zM5.41 20L4 18.59l7.72-7.72 1.47 1.35L5.41 20z\"/>\n",
              "  </svg>\n",
              "      </button>\n",
              "      \n",
              "  <style>\n",
              "    .colab-df-container {\n",
              "      display:flex;\n",
              "      flex-wrap:wrap;\n",
              "      gap: 12px;\n",
              "    }\n",
              "\n",
              "    .colab-df-convert {\n",
              "      background-color: #E8F0FE;\n",
              "      border: none;\n",
              "      border-radius: 50%;\n",
              "      cursor: pointer;\n",
              "      display: none;\n",
              "      fill: #1967D2;\n",
              "      height: 32px;\n",
              "      padding: 0 0 0 0;\n",
              "      width: 32px;\n",
              "    }\n",
              "\n",
              "    .colab-df-convert:hover {\n",
              "      background-color: #E2EBFA;\n",
              "      box-shadow: 0px 1px 2px rgba(60, 64, 67, 0.3), 0px 1px 3px 1px rgba(60, 64, 67, 0.15);\n",
              "      fill: #174EA6;\n",
              "    }\n",
              "\n",
              "    [theme=dark] .colab-df-convert {\n",
              "      background-color: #3B4455;\n",
              "      fill: #D2E3FC;\n",
              "    }\n",
              "\n",
              "    [theme=dark] .colab-df-convert:hover {\n",
              "      background-color: #434B5C;\n",
              "      box-shadow: 0px 1px 3px 1px rgba(0, 0, 0, 0.15);\n",
              "      filter: drop-shadow(0px 1px 2px rgba(0, 0, 0, 0.3));\n",
              "      fill: #FFFFFF;\n",
              "    }\n",
              "  </style>\n",
              "\n",
              "      <script>\n",
              "        const buttonEl =\n",
              "          document.querySelector('#df-0b5a006b-572d-4314-a3bf-0caa2b00c01b button.colab-df-convert');\n",
              "        buttonEl.style.display =\n",
              "          google.colab.kernel.accessAllowed ? 'block' : 'none';\n",
              "\n",
              "        async function convertToInteractive(key) {\n",
              "          const element = document.querySelector('#df-0b5a006b-572d-4314-a3bf-0caa2b00c01b');\n",
              "          const dataTable =\n",
              "            await google.colab.kernel.invokeFunction('convertToInteractive',\n",
              "                                                     [key], {});\n",
              "          if (!dataTable) return;\n",
              "\n",
              "          const docLinkHtml = 'Like what you see? Visit the ' +\n",
              "            '<a target=\"_blank\" href=https://colab.research.google.com/notebooks/data_table.ipynb>data table notebook</a>'\n",
              "            + ' to learn more about interactive tables.';\n",
              "          element.innerHTML = '';\n",
              "          dataTable['output_type'] = 'display_data';\n",
              "          await google.colab.output.renderOutput(dataTable, element);\n",
              "          const docLink = document.createElement('div');\n",
              "          docLink.innerHTML = docLinkHtml;\n",
              "          element.appendChild(docLink);\n",
              "        }\n",
              "      </script>\n",
              "    </div>\n",
              "  </div>\n",
              "  "
            ]
          },
          "metadata": {},
          "execution_count": 42
        }
      ]
    },
    {
      "cell_type": "code",
      "source": [
        "start_date = pd.to_datetime(\"1990-01-01\").date()\n",
        "df = df.loc[start_date:].copy()"
      ],
      "metadata": {
        "id": "XyMXkB5vJznQ"
      },
      "execution_count": 43,
      "outputs": []
    },
    {
      "cell_type": "code",
      "source": [
        "df.head()"
      ],
      "metadata": {
        "colab": {
          "base_uri": "https://localhost:8080/",
          "height": 237
        },
        "id": "yv09IAwXJ6L9",
        "outputId": "16773e5a-36d6-4bef-87be-70937f13e962"
      },
      "execution_count": 44,
      "outputs": [
        {
          "output_type": "execute_result",
          "data": {
            "text/plain": [
              "                  Open        High         Low       Close    Tomorrow  Target\n",
              "Date                                                                          \n",
              "1990-01-02  353.399994  359.690002  351.980011  359.690002  358.760010       0\n",
              "1990-01-03  359.690002  360.589996  357.890015  358.760010  355.670013       0\n",
              "1990-01-04  358.760010  358.760010  352.890015  355.670013  352.200012       0\n",
              "1990-01-05  355.670013  355.670013  351.350006  352.200012  353.790009       1\n",
              "1990-01-08  352.200012  354.239990  350.540009  353.790009  349.619995       0"
            ],
            "text/html": [
              "\n",
              "  <div id=\"df-d7edfa9c-65b7-4e45-8500-fd41f702a975\">\n",
              "    <div class=\"colab-df-container\">\n",
              "      <div>\n",
              "<style scoped>\n",
              "    .dataframe tbody tr th:only-of-type {\n",
              "        vertical-align: middle;\n",
              "    }\n",
              "\n",
              "    .dataframe tbody tr th {\n",
              "        vertical-align: top;\n",
              "    }\n",
              "\n",
              "    .dataframe thead th {\n",
              "        text-align: right;\n",
              "    }\n",
              "</style>\n",
              "<table border=\"1\" class=\"dataframe\">\n",
              "  <thead>\n",
              "    <tr style=\"text-align: right;\">\n",
              "      <th></th>\n",
              "      <th>Open</th>\n",
              "      <th>High</th>\n",
              "      <th>Low</th>\n",
              "      <th>Close</th>\n",
              "      <th>Tomorrow</th>\n",
              "      <th>Target</th>\n",
              "    </tr>\n",
              "    <tr>\n",
              "      <th>Date</th>\n",
              "      <th></th>\n",
              "      <th></th>\n",
              "      <th></th>\n",
              "      <th></th>\n",
              "      <th></th>\n",
              "      <th></th>\n",
              "    </tr>\n",
              "  </thead>\n",
              "  <tbody>\n",
              "    <tr>\n",
              "      <th>1990-01-02</th>\n",
              "      <td>353.399994</td>\n",
              "      <td>359.690002</td>\n",
              "      <td>351.980011</td>\n",
              "      <td>359.690002</td>\n",
              "      <td>358.760010</td>\n",
              "      <td>0</td>\n",
              "    </tr>\n",
              "    <tr>\n",
              "      <th>1990-01-03</th>\n",
              "      <td>359.690002</td>\n",
              "      <td>360.589996</td>\n",
              "      <td>357.890015</td>\n",
              "      <td>358.760010</td>\n",
              "      <td>355.670013</td>\n",
              "      <td>0</td>\n",
              "    </tr>\n",
              "    <tr>\n",
              "      <th>1990-01-04</th>\n",
              "      <td>358.760010</td>\n",
              "      <td>358.760010</td>\n",
              "      <td>352.890015</td>\n",
              "      <td>355.670013</td>\n",
              "      <td>352.200012</td>\n",
              "      <td>0</td>\n",
              "    </tr>\n",
              "    <tr>\n",
              "      <th>1990-01-05</th>\n",
              "      <td>355.670013</td>\n",
              "      <td>355.670013</td>\n",
              "      <td>351.350006</td>\n",
              "      <td>352.200012</td>\n",
              "      <td>353.790009</td>\n",
              "      <td>1</td>\n",
              "    </tr>\n",
              "    <tr>\n",
              "      <th>1990-01-08</th>\n",
              "      <td>352.200012</td>\n",
              "      <td>354.239990</td>\n",
              "      <td>350.540009</td>\n",
              "      <td>353.790009</td>\n",
              "      <td>349.619995</td>\n",
              "      <td>0</td>\n",
              "    </tr>\n",
              "  </tbody>\n",
              "</table>\n",
              "</div>\n",
              "      <button class=\"colab-df-convert\" onclick=\"convertToInteractive('df-d7edfa9c-65b7-4e45-8500-fd41f702a975')\"\n",
              "              title=\"Convert this dataframe to an interactive table.\"\n",
              "              style=\"display:none;\">\n",
              "        \n",
              "  <svg xmlns=\"http://www.w3.org/2000/svg\" height=\"24px\"viewBox=\"0 0 24 24\"\n",
              "       width=\"24px\">\n",
              "    <path d=\"M0 0h24v24H0V0z\" fill=\"none\"/>\n",
              "    <path d=\"M18.56 5.44l.94 2.06.94-2.06 2.06-.94-2.06-.94-.94-2.06-.94 2.06-2.06.94zm-11 1L8.5 8.5l.94-2.06 2.06-.94-2.06-.94L8.5 2.5l-.94 2.06-2.06.94zm10 10l.94 2.06.94-2.06 2.06-.94-2.06-.94-.94-2.06-.94 2.06-2.06.94z\"/><path d=\"M17.41 7.96l-1.37-1.37c-.4-.4-.92-.59-1.43-.59-.52 0-1.04.2-1.43.59L10.3 9.45l-7.72 7.72c-.78.78-.78 2.05 0 2.83L4 21.41c.39.39.9.59 1.41.59.51 0 1.02-.2 1.41-.59l7.78-7.78 2.81-2.81c.8-.78.8-2.07 0-2.86zM5.41 20L4 18.59l7.72-7.72 1.47 1.35L5.41 20z\"/>\n",
              "  </svg>\n",
              "      </button>\n",
              "      \n",
              "  <style>\n",
              "    .colab-df-container {\n",
              "      display:flex;\n",
              "      flex-wrap:wrap;\n",
              "      gap: 12px;\n",
              "    }\n",
              "\n",
              "    .colab-df-convert {\n",
              "      background-color: #E8F0FE;\n",
              "      border: none;\n",
              "      border-radius: 50%;\n",
              "      cursor: pointer;\n",
              "      display: none;\n",
              "      fill: #1967D2;\n",
              "      height: 32px;\n",
              "      padding: 0 0 0 0;\n",
              "      width: 32px;\n",
              "    }\n",
              "\n",
              "    .colab-df-convert:hover {\n",
              "      background-color: #E2EBFA;\n",
              "      box-shadow: 0px 1px 2px rgba(60, 64, 67, 0.3), 0px 1px 3px 1px rgba(60, 64, 67, 0.15);\n",
              "      fill: #174EA6;\n",
              "    }\n",
              "\n",
              "    [theme=dark] .colab-df-convert {\n",
              "      background-color: #3B4455;\n",
              "      fill: #D2E3FC;\n",
              "    }\n",
              "\n",
              "    [theme=dark] .colab-df-convert:hover {\n",
              "      background-color: #434B5C;\n",
              "      box-shadow: 0px 1px 3px 1px rgba(0, 0, 0, 0.15);\n",
              "      filter: drop-shadow(0px 1px 2px rgba(0, 0, 0, 0.3));\n",
              "      fill: #FFFFFF;\n",
              "    }\n",
              "  </style>\n",
              "\n",
              "      <script>\n",
              "        const buttonEl =\n",
              "          document.querySelector('#df-d7edfa9c-65b7-4e45-8500-fd41f702a975 button.colab-df-convert');\n",
              "        buttonEl.style.display =\n",
              "          google.colab.kernel.accessAllowed ? 'block' : 'none';\n",
              "\n",
              "        async function convertToInteractive(key) {\n",
              "          const element = document.querySelector('#df-d7edfa9c-65b7-4e45-8500-fd41f702a975');\n",
              "          const dataTable =\n",
              "            await google.colab.kernel.invokeFunction('convertToInteractive',\n",
              "                                                     [key], {});\n",
              "          if (!dataTable) return;\n",
              "\n",
              "          const docLinkHtml = 'Like what you see? Visit the ' +\n",
              "            '<a target=\"_blank\" href=https://colab.research.google.com/notebooks/data_table.ipynb>data table notebook</a>'\n",
              "            + ' to learn more about interactive tables.';\n",
              "          element.innerHTML = '';\n",
              "          dataTable['output_type'] = 'display_data';\n",
              "          await google.colab.output.renderOutput(dataTable, element);\n",
              "          const docLink = document.createElement('div');\n",
              "          docLink.innerHTML = docLinkHtml;\n",
              "          element.appendChild(docLink);\n",
              "        }\n",
              "      </script>\n",
              "    </div>\n",
              "  </div>\n",
              "  "
            ]
          },
          "metadata": {},
          "execution_count": 44
        }
      ]
    },
    {
      "cell_type": "code",
      "source": [
        "df.info()"
      ],
      "metadata": {
        "colab": {
          "base_uri": "https://localhost:8080/"
        },
        "id": "KYqs2lwVLdwt",
        "outputId": "47ed9d62-2998-45bf-b2e0-4b2328e8f148"
      },
      "execution_count": 45,
      "outputs": [
        {
          "output_type": "stream",
          "name": "stdout",
          "text": [
            "<class 'pandas.core.frame.DataFrame'>\n",
            "Index: 8428 entries, 1990-01-02 to 2023-06-14\n",
            "Data columns (total 6 columns):\n",
            " #   Column    Non-Null Count  Dtype  \n",
            "---  ------    --------------  -----  \n",
            " 0   Open      8428 non-null   float64\n",
            " 1   High      8428 non-null   float64\n",
            " 2   Low       8428 non-null   float64\n",
            " 3   Close     8428 non-null   float64\n",
            " 4   Tomorrow  8427 non-null   float64\n",
            " 5   Target    8428 non-null   int64  \n",
            "dtypes: float64(5), int64(1)\n",
            "memory usage: 460.9+ KB\n"
          ]
        }
      ]
    },
    {
      "cell_type": "code",
      "source": [
        "df.isnull().sum()"
      ],
      "metadata": {
        "colab": {
          "base_uri": "https://localhost:8080/"
        },
        "id": "0bnliv7VLiA4",
        "outputId": "df7fae48-19aa-4a1e-ccf4-f7f6aa9e6794"
      },
      "execution_count": 46,
      "outputs": [
        {
          "output_type": "execute_result",
          "data": {
            "text/plain": [
              "Open        0\n",
              "High        0\n",
              "Low         0\n",
              "Close       0\n",
              "Tomorrow    1\n",
              "Target      0\n",
              "dtype: int64"
            ]
          },
          "metadata": {},
          "execution_count": 46
        }
      ]
    },
    {
      "cell_type": "code",
      "source": [
        "from sklearn.ensemble import RandomForestClassifier\n",
        "\n",
        "model = RandomForestClassifier(n_estimators=100, min_samples_split=100, random_state=1)\n",
        "\n",
        "train = df.iloc[:-100]\n",
        "test = df.iloc[-100:]\n",
        "\n",
        "predictors = [\"Close\", \"Open\", \"High\", \"Low\"]\n",
        "model.fit(train[predictors], train[\"Target\"])"
      ],
      "metadata": {
        "colab": {
          "base_uri": "https://localhost:8080/",
          "height": 74
        },
        "id": "O0kXNDZWKTaK",
        "outputId": "3fcc9f19-a649-4037-defe-88f7aa2eb0d5"
      },
      "execution_count": 47,
      "outputs": [
        {
          "output_type": "execute_result",
          "data": {
            "text/plain": [
              "RandomForestClassifier(min_samples_split=100, random_state=1)"
            ],
            "text/html": [
              "<style>#sk-container-id-2 {color: black;background-color: white;}#sk-container-id-2 pre{padding: 0;}#sk-container-id-2 div.sk-toggleable {background-color: white;}#sk-container-id-2 label.sk-toggleable__label {cursor: pointer;display: block;width: 100%;margin-bottom: 0;padding: 0.3em;box-sizing: border-box;text-align: center;}#sk-container-id-2 label.sk-toggleable__label-arrow:before {content: \"▸\";float: left;margin-right: 0.25em;color: #696969;}#sk-container-id-2 label.sk-toggleable__label-arrow:hover:before {color: black;}#sk-container-id-2 div.sk-estimator:hover label.sk-toggleable__label-arrow:before {color: black;}#sk-container-id-2 div.sk-toggleable__content {max-height: 0;max-width: 0;overflow: hidden;text-align: left;background-color: #f0f8ff;}#sk-container-id-2 div.sk-toggleable__content pre {margin: 0.2em;color: black;border-radius: 0.25em;background-color: #f0f8ff;}#sk-container-id-2 input.sk-toggleable__control:checked~div.sk-toggleable__content {max-height: 200px;max-width: 100%;overflow: auto;}#sk-container-id-2 input.sk-toggleable__control:checked~label.sk-toggleable__label-arrow:before {content: \"▾\";}#sk-container-id-2 div.sk-estimator input.sk-toggleable__control:checked~label.sk-toggleable__label {background-color: #d4ebff;}#sk-container-id-2 div.sk-label input.sk-toggleable__control:checked~label.sk-toggleable__label {background-color: #d4ebff;}#sk-container-id-2 input.sk-hidden--visually {border: 0;clip: rect(1px 1px 1px 1px);clip: rect(1px, 1px, 1px, 1px);height: 1px;margin: -1px;overflow: hidden;padding: 0;position: absolute;width: 1px;}#sk-container-id-2 div.sk-estimator {font-family: monospace;background-color: #f0f8ff;border: 1px dotted black;border-radius: 0.25em;box-sizing: border-box;margin-bottom: 0.5em;}#sk-container-id-2 div.sk-estimator:hover {background-color: #d4ebff;}#sk-container-id-2 div.sk-parallel-item::after {content: \"\";width: 100%;border-bottom: 1px solid gray;flex-grow: 1;}#sk-container-id-2 div.sk-label:hover label.sk-toggleable__label {background-color: #d4ebff;}#sk-container-id-2 div.sk-serial::before {content: \"\";position: absolute;border-left: 1px solid gray;box-sizing: border-box;top: 0;bottom: 0;left: 50%;z-index: 0;}#sk-container-id-2 div.sk-serial {display: flex;flex-direction: column;align-items: center;background-color: white;padding-right: 0.2em;padding-left: 0.2em;position: relative;}#sk-container-id-2 div.sk-item {position: relative;z-index: 1;}#sk-container-id-2 div.sk-parallel {display: flex;align-items: stretch;justify-content: center;background-color: white;position: relative;}#sk-container-id-2 div.sk-item::before, #sk-container-id-2 div.sk-parallel-item::before {content: \"\";position: absolute;border-left: 1px solid gray;box-sizing: border-box;top: 0;bottom: 0;left: 50%;z-index: -1;}#sk-container-id-2 div.sk-parallel-item {display: flex;flex-direction: column;z-index: 1;position: relative;background-color: white;}#sk-container-id-2 div.sk-parallel-item:first-child::after {align-self: flex-end;width: 50%;}#sk-container-id-2 div.sk-parallel-item:last-child::after {align-self: flex-start;width: 50%;}#sk-container-id-2 div.sk-parallel-item:only-child::after {width: 0;}#sk-container-id-2 div.sk-dashed-wrapped {border: 1px dashed gray;margin: 0 0.4em 0.5em 0.4em;box-sizing: border-box;padding-bottom: 0.4em;background-color: white;}#sk-container-id-2 div.sk-label label {font-family: monospace;font-weight: bold;display: inline-block;line-height: 1.2em;}#sk-container-id-2 div.sk-label-container {text-align: center;}#sk-container-id-2 div.sk-container {/* jupyter's `normalize.less` sets `[hidden] { display: none; }` but bootstrap.min.css set `[hidden] { display: none !important; }` so we also need the `!important` here to be able to override the default hidden behavior on the sphinx rendered scikit-learn.org. See: https://github.com/scikit-learn/scikit-learn/issues/21755 */display: inline-block !important;position: relative;}#sk-container-id-2 div.sk-text-repr-fallback {display: none;}</style><div id=\"sk-container-id-2\" class=\"sk-top-container\"><div class=\"sk-text-repr-fallback\"><pre>RandomForestClassifier(min_samples_split=100, random_state=1)</pre><b>In a Jupyter environment, please rerun this cell to show the HTML representation or trust the notebook. <br />On GitHub, the HTML representation is unable to render, please try loading this page with nbviewer.org.</b></div><div class=\"sk-container\" hidden><div class=\"sk-item\"><div class=\"sk-estimator sk-toggleable\"><input class=\"sk-toggleable__control sk-hidden--visually\" id=\"sk-estimator-id-2\" type=\"checkbox\" checked><label for=\"sk-estimator-id-2\" class=\"sk-toggleable__label sk-toggleable__label-arrow\">RandomForestClassifier</label><div class=\"sk-toggleable__content\"><pre>RandomForestClassifier(min_samples_split=100, random_state=1)</pre></div></div></div></div></div>"
            ]
          },
          "metadata": {},
          "execution_count": 47
        }
      ]
    },
    {
      "cell_type": "code",
      "source": [
        "from sklearn.metrics import precision_score\n",
        "\n",
        "preds = model.predict(test[predictors])\n",
        "preds = pd.Series(preds, index=test.index)\n",
        "precision_score(test[\"Target\"], preds)"
      ],
      "metadata": {
        "colab": {
          "base_uri": "https://localhost:8080/"
        },
        "id": "Qg0z-SFNLzcz",
        "outputId": "ff52f55d-c6f6-474f-f3d5-80e4e3dadcdf"
      },
      "execution_count": 48,
      "outputs": [
        {
          "output_type": "execute_result",
          "data": {
            "text/plain": [
              "0.5882352941176471"
            ]
          },
          "metadata": {},
          "execution_count": 48
        }
      ]
    },
    {
      "cell_type": "code",
      "source": [
        "combined = pd.concat([test[\"Target\"], preds], axis=1)\n",
        "combined.plot()"
      ],
      "metadata": {
        "colab": {
          "base_uri": "https://localhost:8080/",
          "height": 466
        },
        "id": "-g_PbJMZMSH9",
        "outputId": "6f992126-19c3-49dc-e0fb-693113912c68"
      },
      "execution_count": 49,
      "outputs": [
        {
          "output_type": "execute_result",
          "data": {
            "text/plain": [
              "<Axes: xlabel='Date'>"
            ]
          },
          "metadata": {},
          "execution_count": 49
        },
        {
          "output_type": "display_data",
          "data": {
            "text/plain": [
              "<Figure size 640x480 with 1 Axes>"
            ],
            "image/png": "[encoded data removed]"
          },
          "metadata": {}
        }
      ]
    },
    {
      "cell_type": "code",
      "source": [
        "def predict(train, test, predictors, model):\n",
        "    model.fit(train[predictors], train[\"Target\"])\n",
        "    preds = model.predict(test[predictors])\n",
        "    preds = pd.Series(preds, index=test.index, name=\"Predictions\")\n",
        "    combined = pd.concat([test[\"Target\"], preds], axis=1)\n",
        "    return combined"
      ],
      "metadata": {
        "id": "6elRPnyqMd60"
      },
      "execution_count": 50,
      "outputs": []
    },
    {
      "cell_type": "code",
      "source": [
        "def backtest(data, model, predictors, start=2500, step=250):\n",
        "    all_predictions = []\n",
        "\n",
        "    for i in range(start, data.shape[0], step):\n",
        "        train = data.iloc[0:i].copy()\n",
        "        test = data.iloc[i:(i+step)].copy()\n",
        "        predictions = predict(train, test, predictors, model)\n",
        "        all_predictions.append(predictions)\n",
        "\n",
        "    return pd.concat(all_predictions)"
      ],
      "metadata": {
        "id": "YlctcWR1M7_V"
      },
      "execution_count": 51,
      "outputs": []
    },
    {
      "cell_type": "code",
      "source": [
        "predictions = backtest(df, model, predictors)"
      ],
      "metadata": {
        "id": "ezVv20mXNhyt"
      },
      "execution_count": 52,
      "outputs": []
    },
    {
      "cell_type": "code",
      "source": [
        "predictions[\"Predictions\"].value_counts()"
      ],
      "metadata": {
        "colab": {
          "base_uri": "https://localhost:8080/"
        },
        "id": "BB2_ANx-Nhu3",
        "outputId": "1985e31f-ef1e-48f1-fd76-01f49ea3c591"
      },
      "execution_count": 53,
      "outputs": [
        {
          "output_type": "execute_result",
          "data": {
            "text/plain": [
              "0    3319\n",
              "1    2609\n",
              "Name: Predictions, dtype: int64"
            ]
          },
          "metadata": {},
          "execution_count": 53
        }
      ]
    },
    {
      "cell_type": "code",
      "source": [
        "precision_score(predictions[\"Target\"], predictions[\"Predictions\"])"
      ],
      "metadata": {
        "colab": {
          "base_uri": "https://localhost:8080/"
        },
        "id": "D0pox82_Nhpn",
        "outputId": "0cce948a-6511-4dc6-93b2-6240369b287b"
      },
      "execution_count": 54,
      "outputs": [
        {
          "output_type": "execute_result",
          "data": {
            "text/plain": [
              "0.5293215791490993"
            ]
          },
          "metadata": {},
          "execution_count": 54
        }
      ]
    },
    {
      "cell_type": "code",
      "source": [
        "predictions[\"Target\"].value_counts() / predictions.shape[0]"
      ],
      "metadata": {
        "colab": {
          "base_uri": "https://localhost:8080/"
        },
        "id": "jwEH49f9NxzN",
        "outputId": "0d542b8f-0a2c-408f-e627-5bdf3c33f359"
      },
      "execution_count": 55,
      "outputs": [
        {
          "output_type": "execute_result",
          "data": {
            "text/plain": [
              "1    0.534076\n",
              "0    0.465924\n",
              "Name: Target, dtype: float64"
            ]
          },
          "metadata": {},
          "execution_count": 55
        }
      ]
    },
    {
      "cell_type": "code",
      "source": [
        "horizons = [2,5,60,250,1000]\n",
        "new_predictors = []\n",
        "\n",
        "for horizon in horizons:\n",
        "    rolling_averages = df.rolling(horizon).mean()\n",
        "\n",
        "    ratio_column = f\"Close_Ratio_{horizon}\"\n",
        "    df[ratio_column] = df[\"Close\"] / rolling_averages[\"Close\"]\n",
        "\n",
        "    trend_column = f\"Trend_{horizon}\"\n",
        "    df[trend_column] = df.shift(1).rolling(horizon).sum()[\"Target\"]\n",
        "\n",
        "    new_predictors+= [ratio_column, trend_column]"
      ],
      "metadata": {
        "id": "XmO4pqphNxxP"
      },
      "execution_count": 56,
      "outputs": []
    },
    {
      "cell_type": "code",
      "source": [
        "df.head()"
      ],
      "metadata": {
        "colab": {
          "base_uri": "https://localhost:8080/",
          "height": 388
        },
        "id": "KGuUlZhYNxt3",
        "outputId": "0088eb99-e9a3-47eb-faae-d20b8a0326c9"
      },
      "execution_count": 57,
      "outputs": [
        {
          "output_type": "execute_result",
          "data": {
            "text/plain": [
              "                  Open        High         Low       Close    Tomorrow  \\\n",
              "Date                                                                     \n",
              "1990-01-02  353.399994  359.690002  351.980011  359.690002  358.760010   \n",
              "1990-01-03  359.690002  360.589996  357.890015  358.760010  355.670013   \n",
              "1990-01-04  358.760010  358.760010  352.890015  355.670013  352.200012   \n",
              "1990-01-05  355.670013  355.670013  351.350006  352.200012  353.790009   \n",
              "1990-01-08  352.200012  354.239990  350.540009  353.790009  349.619995   \n",
              "\n",
              "            Target  Close_Ratio_2  Trend_2  Close_Ratio_5  Trend_5  \\\n",
              "Date                                                                 \n",
              "1990-01-02       0            NaN      NaN            NaN      NaN   \n",
              "1990-01-03       0       0.998706      NaN            NaN      NaN   \n",
              "1990-01-04       0       0.995675      0.0            NaN      NaN   \n",
              "1990-01-05       1       0.995098      0.0            NaN      NaN   \n",
              "1990-01-08       0       1.002252      1.0       0.993731      NaN   \n",
              "\n",
              "            Close_Ratio_60  Trend_60  Close_Ratio_250  Trend_250  \\\n",
              "Date                                                               \n",
              "1990-01-02             NaN       NaN              NaN        NaN   \n",
              "1990-01-03             NaN       NaN              NaN        NaN   \n",
              "1990-01-04             NaN       NaN              NaN        NaN   \n",
              "1990-01-05             NaN       NaN              NaN        NaN   \n",
              "1990-01-08             NaN       NaN              NaN        NaN   \n",
              "\n",
              "            Close_Ratio_1000  Trend_1000  \n",
              "Date                                      \n",
              "1990-01-02               NaN         NaN  \n",
              "1990-01-03               NaN         NaN  \n",
              "1990-01-04               NaN         NaN  \n",
              "1990-01-05               NaN         NaN  \n",
              "1990-01-08               NaN         NaN  "
            ],
            "text/html": [
              "\n",
              "  <div id=\"df-0ead224e-47cf-4e03-a61a-99f4d5470e11\">\n",
              "    <div class=\"colab-df-container\">\n",
              "      <div>\n",
              "<style scoped>\n",
              "    .dataframe tbody tr th:only-of-type {\n",
              "        vertical-align: middle;\n",
              "    }\n",
              "\n",
              "    .dataframe tbody tr th {\n",
              "        vertical-align: top;\n",
              "    }\n",
              "\n",
              "    .dataframe thead th {\n",
              "        text-align: right;\n",
              "    }\n",
              "</style>\n",
              "<table border=\"1\" class=\"dataframe\">\n",
              "  <thead>\n",
              "    <tr style=\"text-align: right;\">\n",
              "      <th></th>\n",
              "      <th>Open</th>\n",
              "      <th>High</th>\n",
              "      <th>Low</th>\n",
              "      <th>Close</th>\n",
              "      <th>Tomorrow</th>\n",
              "      <th>Target</th>\n",
              "      <th>Close_Ratio_2</th>\n",
              "      <th>Trend_2</th>\n",
              "      <th>Close_Ratio_5</th>\n",
              "      <th>Trend_5</th>\n",
              "      <th>Close_Ratio_60</th>\n",
              "      <th>Trend_60</th>\n",
              "      <th>Close_Ratio_250</th>\n",
              "      <th>Trend_250</th>\n",
              "      <th>Close_Ratio_1000</th>\n",
              "      <th>Trend_1000</th>\n",
              "    </tr>\n",
              "    <tr>\n",
              "      <th>Date</th>\n",
              "      <th></th>\n",
              "      <th></th>\n",
              "      <th></th>\n",
              "      <th></th>\n",
              "      <th></th>\n",
              "      <th></th>\n",
              "      <th></th>\n",
              "      <th></th>\n",
              "      <th></th>\n",
              "      <th></th>\n",
              "      <th></th>\n",
              "      <th></th>\n",
              "      <th></th>\n",
              "      <th></th>\n",
              "      <th></th>\n",
              "      <th></th>\n",
              "    </tr>\n",
              "  </thead>\n",
              "  <tbody>\n",
              "    <tr>\n",
              "      <th>1990-01-02</th>\n",
              "      <td>353.399994</td>\n",
              "      <td>359.690002</td>\n",
              "      <td>351.980011</td>\n",
              "      <td>359.690002</td>\n",
              "      <td>358.760010</td>\n",
              "      <td>0</td>\n",
              "      <td>NaN</td>\n",
              "      <td>NaN</td>\n",
              "      <td>NaN</td>\n",
              "      <td>NaN</td>\n",
              "      <td>NaN</td>\n",
              "      <td>NaN</td>\n",
              "      <td>NaN</td>\n",
              "      <td>NaN</td>\n",
              "      <td>NaN</td>\n",
              "      <td>NaN</td>\n",
              "    </tr>\n",
              "    <tr>\n",
              "      <th>1990-01-03</th>\n",
              "      <td>359.690002</td>\n",
              "      <td>360.589996</td>\n",
              "      <td>357.890015</td>\n",
              "      <td>358.760010</td>\n",
              "      <td>355.670013</td>\n",
              "      <td>0</td>\n",
              "      <td>0.998706</td>\n",
              "      <td>NaN</td>\n",
              "      <td>NaN</td>\n",
              "      <td>NaN</td>\n",
              "      <td>NaN</td>\n",
              "      <td>NaN</td>\n",
              "      <td>NaN</td>\n",
              "      <td>NaN</td>\n",
              "      <td>NaN</td>\n",
              "      <td>NaN</td>\n",
              "    </tr>\n",
              "    <tr>\n",
              "      <th>1990-01-04</th>\n",
              "      <td>358.760010</td>\n",
              "      <td>358.760010</td>\n",
              "      <td>352.890015</td>\n",
              "      <td>355.670013</td>\n",
              "      <td>352.200012</td>\n",
              "      <td>0</td>\n",
              "      <td>0.995675</td>\n",
              "      <td>0.0</td>\n",
              "      <td>NaN</td>\n",
              "      <td>NaN</td>\n",
              "      <td>NaN</td>\n",
              "      <td>NaN</td>\n",
              "      <td>NaN</td>\n",
              "      <td>NaN</td>\n",
              "      <td>NaN</td>\n",
              "      <td>NaN</td>\n",
              "    </tr>\n",
              "    <tr>\n",
              "      <th>1990-01-05</th>\n",
              "      <td>355.670013</td>\n",
              "      <td>355.670013</td>\n",
              "      <td>351.350006</td>\n",
              "      <td>352.200012</td>\n",
              "      <td>353.790009</td>\n",
              "      <td>1</td>\n",
              "      <td>0.995098</td>\n",
              "      <td>0.0</td>\n",
              "      <td>NaN</td>\n",
              "      <td>NaN</td>\n",
              "      <td>NaN</td>\n",
              "      <td>NaN</td>\n",
              "      <td>NaN</td>\n",
              "      <td>NaN</td>\n",
              "      <td>NaN</td>\n",
              "      <td>NaN</td>\n",
              "    </tr>\n",
              "    <tr>\n",
              "      <th>1990-01-08</th>\n",
              "      <td>352.200012</td>\n",
              "      <td>354.239990</td>\n",
              "      <td>350.540009</td>\n",
              "      <td>353.790009</td>\n",
              "      <td>349.619995</td>\n",
              "      <td>0</td>\n",
              "      <td>1.002252</td>\n",
              "      <td>1.0</td>\n",
              "      <td>0.993731</td>\n",
              "      <td>NaN</td>\n",
              "      <td>NaN</td>\n",
              "      <td>NaN</td>\n",
              "      <td>NaN</td>\n",
              "      <td>NaN</td>\n",
              "      <td>NaN</td>\n",
              "      <td>NaN</td>\n",
              "    </tr>\n",
              "  </tbody>\n",
              "</table>\n",
              "</div>\n",
              "      <button class=\"colab-df-convert\" onclick=\"convertToInteractive('df-0ead224e-47cf-4e03-a61a-99f4d5470e11')\"\n",
              "              title=\"Convert this dataframe to an interactive table.\"\n",
              "              style=\"display:none;\">\n",
              "        \n",
              "  <svg xmlns=\"http://www.w3.org/2000/svg\" height=\"24px\"viewBox=\"0 0 24 24\"\n",
              "       width=\"24px\">\n",
              "    <path d=\"M0 0h24v24H0V0z\" fill=\"none\"/>\n",
              "    <path d=\"M18.56 5.44l.94 2.06.94-2.06 2.06-.94-2.06-.94-.94-2.06-.94 2.06-2.06.94zm-11 1L8.5 8.5l.94-2.06 2.06-.94-2.06-.94L8.5 2.5l-.94 2.06-2.06.94zm10 10l.94 2.06.94-2.06 2.06-.94-2.06-.94-.94-2.06-.94 2.06-2.06.94z\"/><path d=\"M17.41 7.96l-1.37-1.37c-.4-.4-.92-.59-1.43-.59-.52 0-1.04.2-1.43.59L10.3 9.45l-7.72 7.72c-.78.78-.78 2.05 0 2.83L4 21.41c.39.39.9.59 1.41.59.51 0 1.02-.2 1.41-.59l7.78-7.78 2.81-2.81c.8-.78.8-2.07 0-2.86zM5.41 20L4 18.59l7.72-7.72 1.47 1.35L5.41 20z\"/>\n",
              "  </svg>\n",
              "      </button>\n",
              "      \n",
              "  <style>\n",
              "    .colab-df-container {\n",
              "      display:flex;\n",
              "      flex-wrap:wrap;\n",
              "      gap: 12px;\n",
              "    }\n",
              "\n",
              "    .colab-df-convert {\n",
              "      background-color: #E8F0FE;\n",
              "      border: none;\n",
              "      border-radius: 50%;\n",
              "      cursor: pointer;\n",
              "      display: none;\n",
              "      fill: #1967D2;\n",
              "      height: 32px;\n",
              "      padding: 0 0 0 0;\n",
              "      width: 32px;\n",
              "    }\n",
              "\n",
              "    .colab-df-convert:hover {\n",
              "      background-color: #E2EBFA;\n",
              "      box-shadow: 0px 1px 2px rgba(60, 64, 67, 0.3), 0px 1px 3px 1px rgba(60, 64, 67, 0.15);\n",
              "      fill: #174EA6;\n",
              "    }\n",
              "\n",
              "    [theme=dark] .colab-df-convert {\n",
              "      background-color: #3B4455;\n",
              "      fill: #D2E3FC;\n",
              "    }\n",
              "\n",
              "    [theme=dark] .colab-df-convert:hover {\n",
              "      background-color: #434B5C;\n",
              "      box-shadow: 0px 1px 3px 1px rgba(0, 0, 0, 0.15);\n",
              "      filter: drop-shadow(0px 1px 2px rgba(0, 0, 0, 0.3));\n",
              "      fill: #FFFFFF;\n",
              "    }\n",
              "  </style>\n",
              "\n",
              "      <script>\n",
              "        const buttonEl =\n",
              "          document.querySelector('#df-0ead224e-47cf-4e03-a61a-99f4d5470e11 button.colab-df-convert');\n",
              "        buttonEl.style.display =\n",
              "          google.colab.kernel.accessAllowed ? 'block' : 'none';\n",
              "\n",
              "        async function convertToInteractive(key) {\n",
              "          const element = document.querySelector('#df-0ead224e-47cf-4e03-a61a-99f4d5470e11');\n",
              "          const dataTable =\n",
              "            await google.colab.kernel.invokeFunction('convertToInteractive',\n",
              "                                                     [key], {});\n",
              "          if (!dataTable) return;\n",
              "\n",
              "          const docLinkHtml = 'Like what you see? Visit the ' +\n",
              "            '<a target=\"_blank\" href=https://colab.research.google.com/notebooks/data_table.ipynb>data table notebook</a>'\n",
              "            + ' to learn more about interactive tables.';\n",
              "          element.innerHTML = '';\n",
              "          dataTable['output_type'] = 'display_data';\n",
              "          await google.colab.output.renderOutput(dataTable, element);\n",
              "          const docLink = document.createElement('div');\n",
              "          docLink.innerHTML = docLinkHtml;\n",
              "          element.appendChild(docLink);\n",
              "        }\n",
              "      </script>\n",
              "    </div>\n",
              "  </div>\n",
              "  "
            ]
          },
          "metadata": {},
          "execution_count": 57
        }
      ]
    },
    {
      "cell_type": "code",
      "source": [
        "df = df.dropna(subset=df.columns[df.columns != \"Tomorrow\"])"
      ],
      "metadata": {
        "id": "G6GmOHRdNxqu"
      },
      "execution_count": 58,
      "outputs": []
    },
    {
      "cell_type": "code",
      "source": [
        "df.head()"
      ],
      "metadata": {
        "colab": {
          "base_uri": "https://localhost:8080/",
          "height": 388
        },
        "id": "1oy3IwIiNxn9",
        "outputId": "9e256a79-2bae-49e7-c3f6-bf169e32032f"
      },
      "execution_count": 59,
      "outputs": [
        {
          "output_type": "execute_result",
          "data": {
            "text/plain": [
              "                  Open        High         Low       Close    Tomorrow  \\\n",
              "Date                                                                     \n",
              "1993-12-14  465.730011  466.119995  462.459991  463.059998  461.839996   \n",
              "1993-12-15  463.059998  463.690002  461.839996  461.839996  463.339996   \n",
              "1993-12-16  461.859985  463.980011  461.859985  463.339996  466.380005   \n",
              "1993-12-17  463.339996  466.380005  463.339996  466.380005  465.850006   \n",
              "1993-12-20  466.380005  466.899994  465.529999  465.850006  465.299988   \n",
              "\n",
              "            Target  Close_Ratio_2  Trend_2  Close_Ratio_5  Trend_5  \\\n",
              "Date                                                                 \n",
              "1993-12-14       0       0.997157      1.0       0.996617      1.0   \n",
              "1993-12-15       1       0.998681      0.0       0.995899      1.0   \n",
              "1993-12-16       1       1.001621      1.0       0.999495      2.0   \n",
              "1993-12-17       0       1.003270      2.0       1.004991      3.0   \n",
              "1993-12-20       0       0.999431      1.0       1.003784      2.0   \n",
              "\n",
              "            Close_Ratio_60  Trend_60  Close_Ratio_250  Trend_250  \\\n",
              "Date                                                               \n",
              "1993-12-14        1.000283      32.0         1.028047      127.0   \n",
              "1993-12-15        0.997329      32.0         1.025151      126.0   \n",
              "1993-12-16        1.000311      32.0         1.028274      127.0   \n",
              "1993-12-17        1.006561      32.0         1.034781      128.0   \n",
              "1993-12-20        1.005120      32.0         1.033359      128.0   \n",
              "\n",
              "            Close_Ratio_1000  Trend_1000  \n",
              "Date                                      \n",
              "1993-12-14          1.176082       512.0  \n",
              "1993-12-15          1.172676       512.0  \n",
              "1993-12-16          1.176163       513.0  \n",
              "1993-12-17          1.183537       514.0  \n",
              "1993-12-20          1.181856       513.0  "
            ],
            "text/html": [
              "\n",
              "  <div id=\"df-0b3fe4e2-fe22-474a-923a-c545d3d53594\">\n",
              "    <div class=\"colab-df-container\">\n",
              "      <div>\n",
              "<style scoped>\n",
              "    .dataframe tbody tr th:only-of-type {\n",
              "        vertical-align: middle;\n",
              "    }\n",
              "\n",
              "    .dataframe tbody tr th {\n",
              "        vertical-align: top;\n",
              "    }\n",
              "\n",
              "    .dataframe thead th {\n",
              "        text-align: right;\n",
              "    }\n",
              "</style>\n",
              "<table border=\"1\" class=\"dataframe\">\n",
              "  <thead>\n",
              "    <tr style=\"text-align: right;\">\n",
              "      <th></th>\n",
              "      <th>Open</th>\n",
              "      <th>High</th>\n",
              "      <th>Low</th>\n",
              "      <th>Close</th>\n",
              "      <th>Tomorrow</th>\n",
              "      <th>Target</th>\n",
              "      <th>Close_Ratio_2</th>\n",
              "      <th>Trend_2</th>\n",
              "      <th>Close_Ratio_5</th>\n",
              "      <th>Trend_5</th>\n",
              "      <th>Close_Ratio_60</th>\n",
              "      <th>Trend_60</th>\n",
              "      <th>Close_Ratio_250</th>\n",
              "      <th>Trend_250</th>\n",
              "      <th>Close_Ratio_1000</th>\n",
              "      <th>Trend_1000</th>\n",
              "    </tr>\n",
              "    <tr>\n",
              "      <th>Date</th>\n",
              "      <th></th>\n",
              "      <th></th>\n",
              "      <th></th>\n",
              "      <th></th>\n",
              "      <th></th>\n",
              "      <th></th>\n",
              "      <th></th>\n",
              "      <th></th>\n",
              "      <th></th>\n",
              "      <th></th>\n",
              "      <th></th>\n",
              "      <th></th>\n",
              "      <th></th>\n",
              "      <th></th>\n",
              "      <th></th>\n",
              "      <th></th>\n",
              "    </tr>\n",
              "  </thead>\n",
              "  <tbody>\n",
              "    <tr>\n",
              "      <th>1993-12-14</th>\n",
              "      <td>465.730011</td>\n",
              "      <td>466.119995</td>\n",
              "      <td>462.459991</td>\n",
              "      <td>463.059998</td>\n",
              "      <td>461.839996</td>\n",
              "      <td>0</td>\n",
              "      <td>0.997157</td>\n",
              "      <td>1.0</td>\n",
              "      <td>0.996617</td>\n",
              "      <td>1.0</td>\n",
              "      <td>1.000283</td>\n",
              "      <td>32.0</td>\n",
              "      <td>1.028047</td>\n",
              "      <td>127.0</td>\n",
              "      <td>1.176082</td>\n",
              "      <td>512.0</td>\n",
              "    </tr>\n",
              "    <tr>\n",
              "      <th>1993-12-15</th>\n",
              "      <td>463.059998</td>\n",
              "      <td>463.690002</td>\n",
              "      <td>461.839996</td>\n",
              "      <td>461.839996</td>\n",
              "      <td>463.339996</td>\n",
              "      <td>1</td>\n",
              "      <td>0.998681</td>\n",
              "      <td>0.0</td>\n",
              "      <td>0.995899</td>\n",
              "      <td>1.0</td>\n",
              "      <td>0.997329</td>\n",
              "      <td>32.0</td>\n",
              "      <td>1.025151</td>\n",
              "      <td>126.0</td>\n",
              "      <td>1.172676</td>\n",
              "      <td>512.0</td>\n",
              "    </tr>\n",
              "    <tr>\n",
              "      <th>1993-12-16</th>\n",
              "      <td>461.859985</td>\n",
              "      <td>463.980011</td>\n",
              "      <td>461.859985</td>\n",
              "      <td>463.339996</td>\n",
              "      <td>466.380005</td>\n",
              "      <td>1</td>\n",
              "      <td>1.001621</td>\n",
              "      <td>1.0</td>\n",
              "      <td>0.999495</td>\n",
              "      <td>2.0</td>\n",
              "      <td>1.000311</td>\n",
              "      <td>32.0</td>\n",
              "      <td>1.028274</td>\n",
              "      <td>127.0</td>\n",
              "      <td>1.176163</td>\n",
              "      <td>513.0</td>\n",
              "    </tr>\n",
              "    <tr>\n",
              "      <th>1993-12-17</th>\n",
              "      <td>463.339996</td>\n",
              "      <td>466.380005</td>\n",
              "      <td>463.339996</td>\n",
              "      <td>466.380005</td>\n",
              "      <td>465.850006</td>\n",
              "      <td>0</td>\n",
              "      <td>1.003270</td>\n",
              "      <td>2.0</td>\n",
              "      <td>1.004991</td>\n",
              "      <td>3.0</td>\n",
              "      <td>1.006561</td>\n",
              "      <td>32.0</td>\n",
              "      <td>1.034781</td>\n",
              "      <td>128.0</td>\n",
              "      <td>1.183537</td>\n",
              "      <td>514.0</td>\n",
              "    </tr>\n",
              "    <tr>\n",
              "      <th>1993-12-20</th>\n",
              "      <td>466.380005</td>\n",
              "      <td>466.899994</td>\n",
              "      <td>465.529999</td>\n",
              "      <td>465.850006</td>\n",
              "      <td>465.299988</td>\n",
              "      <td>0</td>\n",
              "      <td>0.999431</td>\n",
              "      <td>1.0</td>\n",
              "      <td>1.003784</td>\n",
              "      <td>2.0</td>\n",
              "      <td>1.005120</td>\n",
              "      <td>32.0</td>\n",
              "      <td>1.033359</td>\n",
              "      <td>128.0</td>\n",
              "      <td>1.181856</td>\n",
              "      <td>513.0</td>\n",
              "    </tr>\n",
              "  </tbody>\n",
              "</table>\n",
              "</div>\n",
              "      <button class=\"colab-df-convert\" onclick=\"convertToInteractive('df-0b3fe4e2-fe22-474a-923a-c545d3d53594')\"\n",
              "              title=\"Convert this dataframe to an interactive table.\"\n",
              "              style=\"display:none;\">\n",
              "        \n",
              "  <svg xmlns=\"http://www.w3.org/2000/svg\" height=\"24px\"viewBox=\"0 0 24 24\"\n",
              "       width=\"24px\">\n",
              "    <path d=\"M0 0h24v24H0V0z\" fill=\"none\"/>\n",
              "    <path d=\"M18.56 5.44l.94 2.06.94-2.06 2.06-.94-2.06-.94-.94-2.06-.94 2.06-2.06.94zm-11 1L8.5 8.5l.94-2.06 2.06-.94-2.06-.94L8.5 2.5l-.94 2.06-2.06.94zm10 10l.94 2.06.94-2.06 2.06-.94-2.06-.94-.94-2.06-.94 2.06-2.06.94z\"/><path d=\"M17.41 7.96l-1.37-1.37c-.4-.4-.92-.59-1.43-.59-.52 0-1.04.2-1.43.59L10.3 9.45l-7.72 7.72c-.78.78-.78 2.05 0 2.83L4 21.41c.39.39.9.59 1.41.59.51 0 1.02-.2 1.41-.59l7.78-7.78 2.81-2.81c.8-.78.8-2.07 0-2.86zM5.41 20L4 18.59l7.72-7.72 1.47 1.35L5.41 20z\"/>\n",
              "  </svg>\n",
              "      </button>\n",
              "      \n",
              "  <style>\n",
              "    .colab-df-container {\n",
              "      display:flex;\n",
              "      flex-wrap:wrap;\n",
              "      gap: 12px;\n",
              "    }\n",
              "\n",
              "    .colab-df-convert {\n",
              "      background-color: #E8F0FE;\n",
              "      border: none;\n",
              "      border-radius: 50%;\n",
              "      cursor: pointer;\n",
              "      display: none;\n",
              "      fill: #1967D2;\n",
              "      height: 32px;\n",
              "      padding: 0 0 0 0;\n",
              "      width: 32px;\n",
              "    }\n",
              "\n",
              "    .colab-df-convert:hover {\n",
              "      background-color: #E2EBFA;\n",
              "      box-shadow: 0px 1px 2px rgba(60, 64, 67, 0.3), 0px 1px 3px 1px rgba(60, 64, 67, 0.15);\n",
              "      fill: #174EA6;\n",
              "    }\n",
              "\n",
              "    [theme=dark] .colab-df-convert {\n",
              "      background-color: #3B4455;\n",
              "      fill: #D2E3FC;\n",
              "    }\n",
              "\n",
              "    [theme=dark] .colab-df-convert:hover {\n",
              "      background-color: #434B5C;\n",
              "      box-shadow: 0px 1px 3px 1px rgba(0, 0, 0, 0.15);\n",
              "      filter: drop-shadow(0px 1px 2px rgba(0, 0, 0, 0.3));\n",
              "      fill: #FFFFFF;\n",
              "    }\n",
              "  </style>\n",
              "\n",
              "      <script>\n",
              "        const buttonEl =\n",
              "          document.querySelector('#df-0b3fe4e2-fe22-474a-923a-c545d3d53594 button.colab-df-convert');\n",
              "        buttonEl.style.display =\n",
              "          google.colab.kernel.accessAllowed ? 'block' : 'none';\n",
              "\n",
              "        async function convertToInteractive(key) {\n",
              "          const element = document.querySelector('#df-0b3fe4e2-fe22-474a-923a-c545d3d53594');\n",
              "          const dataTable =\n",
              "            await google.colab.kernel.invokeFunction('convertToInteractive',\n",
              "                                                     [key], {});\n",
              "          if (!dataTable) return;\n",
              "\n",
              "          const docLinkHtml = 'Like what you see? Visit the ' +\n",
              "            '<a target=\"_blank\" href=https://colab.research.google.com/notebooks/data_table.ipynb>data table notebook</a>'\n",
              "            + ' to learn more about interactive tables.';\n",
              "          element.innerHTML = '';\n",
              "          dataTable['output_type'] = 'display_data';\n",
              "          await google.colab.output.renderOutput(dataTable, element);\n",
              "          const docLink = document.createElement('div');\n",
              "          docLink.innerHTML = docLinkHtml;\n",
              "          element.appendChild(docLink);\n",
              "        }\n",
              "      </script>\n",
              "    </div>\n",
              "  </div>\n",
              "  "
            ]
          },
          "metadata": {},
          "execution_count": 59
        }
      ]
    },
    {
      "cell_type": "code",
      "source": [
        "model = RandomForestClassifier(n_estimators=200, min_samples_split=50, random_state=1)"
      ],
      "metadata": {
        "id": "vAH0osIQPe-0"
      },
      "execution_count": 60,
      "outputs": []
    },
    {
      "cell_type": "code",
      "source": [
        "def predict(train, test, predictors, model):\n",
        "    model.fit(train[predictors], train[\"Target\"])\n",
        "    preds = model.predict_proba(test[predictors])[:,1]\n",
        "    preds[preds >=.6] = 1\n",
        "    preds[preds <.6] = 0\n",
        "    preds = pd.Series(preds, index=test.index, name=\"Predictions\")\n",
        "    combined = pd.concat([test[\"Target\"], preds], axis=1)\n",
        "    return combined"
      ],
      "metadata": {
        "id": "AkMqJTn6Pj4b"
      },
      "execution_count": 61,
      "outputs": []
    },
    {
      "cell_type": "code",
      "source": [
        "predictions = backtest(df, model, new_predictors)"
      ],
      "metadata": {
        "id": "xM_X5z1xQGVw"
      },
      "execution_count": 62,
      "outputs": []
    },
    {
      "cell_type": "code",
      "source": [
        "predictions[\"Predictions\"].value_counts()"
      ],
      "metadata": {
        "colab": {
          "base_uri": "https://localhost:8080/"
        },
        "id": "3NdCg_jmQGTR",
        "outputId": "3cb04b26-0dbc-44ff-e066-8593817748a6"
      },
      "execution_count": 63,
      "outputs": [
        {
          "output_type": "execute_result",
          "data": {
            "text/plain": [
              "0.0    4114\n",
              "1.0     814\n",
              "Name: Predictions, dtype: int64"
            ]
          },
          "metadata": {},
          "execution_count": 63
        }
      ]
    },
    {
      "cell_type": "code",
      "source": [
        "precision_score(predictions[\"Target\"], predictions[\"Predictions\"])"
      ],
      "metadata": {
        "colab": {
          "base_uri": "https://localhost:8080/"
        },
        "id": "txwDj61aQGQK",
        "outputId": "ff9c80e2-6103-43ac-e4ab-682757b1bb15"
      },
      "execution_count": 64,
      "outputs": [
        {
          "output_type": "execute_result",
          "data": {
            "text/plain": [
              "0.5687960687960688"
            ]
          },
          "metadata": {},
          "execution_count": 64
        }
      ]
    },
    {
      "cell_type": "code",
      "source": [
        "predictions[\"Target\"].value_counts() / predictions.shape[0]"
      ],
      "metadata": {
        "colab": {
          "base_uri": "https://localhost:8080/"
        },
        "id": "cCPu-0aRQFn_",
        "outputId": "1891c788-1d5f-4e6c-ddff-ef39bcf4c1ac"
      },
      "execution_count": 65,
      "outputs": [
        {
          "output_type": "execute_result",
          "data": {
            "text/plain": [
              "1    0.544034\n",
              "0    0.455966\n",
              "Name: Target, dtype: float64"
            ]
          },
          "metadata": {},
          "execution_count": 65
        }
      ]
    },
    {
      "cell_type": "code",
      "source": [
        "predictions"
      ],
      "metadata": {
        "colab": {
          "base_uri": "https://localhost:8080/",
          "height": 455
        },
        "id": "gzOzpQk_Qj2S",
        "outputId": "023239f8-d37b-4a5a-f30a-027f74e638cb"
      },
      "execution_count": 66,
      "outputs": [
        {
          "output_type": "execute_result",
          "data": {
            "text/plain": [
              "            Target  Predictions\n",
              "Date                           \n",
              "2003-11-14       0          0.0\n",
              "2003-11-17       0          1.0\n",
              "2003-11-18       1          1.0\n",
              "2003-11-19       0          0.0\n",
              "2003-11-20       1          1.0\n",
              "...            ...          ...\n",
              "2023-06-08       1          0.0\n",
              "2023-06-09       1          0.0\n",
              "2023-06-12       1          0.0\n",
              "2023-06-13       1          0.0\n",
              "2023-06-14       0          0.0\n",
              "\n",
              "[4928 rows x 2 columns]"
            ],
            "text/html": [
              "\n",
              "  <div id=\"df-e30f9dd9-2043-4372-85d4-6d950c7f5b40\">\n",
              "    <div class=\"colab-df-container\">\n",
              "      <div>\n",
              "<style scoped>\n",
              "    .dataframe tbody tr th:only-of-type {\n",
              "        vertical-align: middle;\n",
              "    }\n",
              "\n",
              "    .dataframe tbody tr th {\n",
              "        vertical-align: top;\n",
              "    }\n",
              "\n",
              "    .dataframe thead th {\n",
              "        text-align: right;\n",
              "    }\n",
              "</style>\n",
              "<table border=\"1\" class=\"dataframe\">\n",
              "  <thead>\n",
              "    <tr style=\"text-align: right;\">\n",
              "      <th></th>\n",
              "      <th>Target</th>\n",
              "      <th>Predictions</th>\n",
              "    </tr>\n",
              "    <tr>\n",
              "      <th>Date</th>\n",
              "      <th></th>\n",
              "      <th></th>\n",
              "    </tr>\n",
              "  </thead>\n",
              "  <tbody>\n",
              "    <tr>\n",
              "      <th>2003-11-14</th>\n",
              "      <td>0</td>\n",
              "      <td>0.0</td>\n",
              "    </tr>\n",
              "    <tr>\n",
              "      <th>2003-11-17</th>\n",
              "      <td>0</td>\n",
              "      <td>1.0</td>\n",
              "    </tr>\n",
              "    <tr>\n",
              "      <th>2003-11-18</th>\n",
              "      <td>1</td>\n",
              "      <td>1.0</td>\n",
              "    </tr>\n",
              "    <tr>\n",
              "      <th>2003-11-19</th>\n",
              "      <td>0</td>\n",
              "      <td>0.0</td>\n",
              "    </tr>\n",
              "    <tr>\n",
              "      <th>2003-11-20</th>\n",
              "      <td>1</td>\n",
              "      <td>1.0</td>\n",
              "    </tr>\n",
              "    <tr>\n",
              "      <th>...</th>\n",
              "      <td>...</td>\n",
              "      <td>...</td>\n",
              "    </tr>\n",
              "    <tr>\n",
              "      <th>2023-06-08</th>\n",
              "      <td>1</td>\n",
              "      <td>0.0</td>\n",
              "    </tr>\n",
              "    <tr>\n",
              "      <th>2023-06-09</th>\n",
              "      <td>1</td>\n",
              "      <td>0.0</td>\n",
              "    </tr>\n",
              "    <tr>\n",
              "      <th>2023-06-12</th>\n",
              "      <td>1</td>\n",
              "      <td>0.0</td>\n",
              "    </tr>\n",
              "    <tr>\n",
              "      <th>2023-06-13</th>\n",
              "      <td>1</td>\n",
              "      <td>0.0</td>\n",
              "    </tr>\n",
              "    <tr>\n",
              "      <th>2023-06-14</th>\n",
              "      <td>0</td>\n",
              "      <td>0.0</td>\n",
              "    </tr>\n",
              "  </tbody>\n",
              "</table>\n",
              "<p>4928 rows × 2 columns</p>\n",
              "</div>\n",
              "      <button class=\"colab-df-convert\" onclick=\"convertToInteractive('df-e30f9dd9-2043-4372-85d4-6d950c7f5b40')\"\n",
              "              title=\"Convert this dataframe to an interactive table.\"\n",
              "              style=\"display:none;\">\n",
              "        \n",
              "  <svg xmlns=\"http://www.w3.org/2000/svg\" height=\"24px\"viewBox=\"0 0 24 24\"\n",
              "       width=\"24px\">\n",
              "    <path d=\"M0 0h24v24H0V0z\" fill=\"none\"/>\n",
              "    <path d=\"M18.56 5.44l.94 2.06.94-2.06 2.06-.94-2.06-.94-.94-2.06-.94 2.06-2.06.94zm-11 1L8.5 8.5l.94-2.06 2.06-.94-2.06-.94L8.5 2.5l-.94 2.06-2.06.94zm10 10l.94 2.06.94-2.06 2.06-.94-2.06-.94-.94-2.06-.94 2.06-2.06.94z\"/><path d=\"M17.41 7.96l-1.37-1.37c-.4-.4-.92-.59-1.43-.59-.52 0-1.04.2-1.43.59L10.3 9.45l-7.72 7.72c-.78.78-.78 2.05 0 2.83L4 21.41c.39.39.9.59 1.41.59.51 0 1.02-.2 1.41-.59l7.78-7.78 2.81-2.81c.8-.78.8-2.07 0-2.86zM5.41 20L4 18.59l7.72-7.72 1.47 1.35L5.41 20z\"/>\n",
              "  </svg>\n",
              "      </button>\n",
              "      \n",
              "  <style>\n",
              "    .colab-df-container {\n",
              "      display:flex;\n",
              "      flex-wrap:wrap;\n",
              "      gap: 12px;\n",
              "    }\n",
              "\n",
              "    .colab-df-convert {\n",
              "      background-color: #E8F0FE;\n",
              "      border: none;\n",
              "      border-radius: 50%;\n",
              "      cursor: pointer;\n",
              "      display: none;\n",
              "      fill: #1967D2;\n",
              "      height: 32px;\n",
              "      padding: 0 0 0 0;\n",
              "      width: 32px;\n",
              "    }\n",
              "\n",
              "    .colab-df-convert:hover {\n",
              "      background-color: #E2EBFA;\n",
              "      box-shadow: 0px 1px 2px rgba(60, 64, 67, 0.3), 0px 1px 3px 1px rgba(60, 64, 67, 0.15);\n",
              "      fill: #174EA6;\n",
              "    }\n",
              "\n",
              "    [theme=dark] .colab-df-convert {\n",
              "      background-color: #3B4455;\n",
              "      fill: #D2E3FC;\n",
              "    }\n",
              "\n",
              "    [theme=dark] .colab-df-convert:hover {\n",
              "      background-color: #434B5C;\n",
              "      box-shadow: 0px 1px 3px 1px rgba(0, 0, 0, 0.15);\n",
              "      filter: drop-shadow(0px 1px 2px rgba(0, 0, 0, 0.3));\n",
              "      fill: #FFFFFF;\n",
              "    }\n",
              "  </style>\n",
              "\n",
              "      <script>\n",
              "        const buttonEl =\n",
              "          document.querySelector('#df-e30f9dd9-2043-4372-85d4-6d950c7f5b40 button.colab-df-convert');\n",
              "        buttonEl.style.display =\n",
              "          google.colab.kernel.accessAllowed ? 'block' : 'none';\n",
              "\n",
              "        async function convertToInteractive(key) {\n",
              "          const element = document.querySelector('#df-e30f9dd9-2043-4372-85d4-6d950c7f5b40');\n",
              "          const dataTable =\n",
              "            await google.colab.kernel.invokeFunction('convertToInteractive',\n",
              "                                                     [key], {});\n",
              "          if (!dataTable) return;\n",
              "\n",
              "          const docLinkHtml = 'Like what you see? Visit the ' +\n",
              "            '<a target=\"_blank\" href=https://colab.research.google.com/notebooks/data_table.ipynb>data table notebook</a>'\n",
              "            + ' to learn more about interactive tables.';\n",
              "          element.innerHTML = '';\n",
              "          dataTable['output_type'] = 'display_data';\n",
              "          await google.colab.output.renderOutput(dataTable, element);\n",
              "          const docLink = document.createElement('div');\n",
              "          docLink.innerHTML = docLinkHtml;\n",
              "          element.appendChild(docLink);\n",
              "        }\n",
              "      </script>\n",
              "    </div>\n",
              "  </div>\n",
              "  "
            ]
          },
          "metadata": {},
          "execution_count": 66
        }
      ]
    },
    {
      "cell_type": "code",
      "source": [
        "from xgboost import XGBClassifier\n",
        "\n",
        "model2 = XGBClassifier()"
      ],
      "metadata": {
        "id": "zgbo30CWQs9z"
      },
      "execution_count": 79,
      "outputs": []
    },
    {
      "cell_type": "code",
      "source": [
        "def predict(train, test, predictors, model):\n",
        "    model2.fit(train[predictors], train[\"Target\"])\n",
        "    preds = model2.predict_proba(test[predictors])[:,1]\n",
        "    preds[preds >=.6] = 1\n",
        "    preds[preds <.6] = 0\n",
        "    preds = pd.Series(preds, index=test.index, name=\"Predictions\")\n",
        "    combined = pd.concat([test[\"Target\"], preds], axis=1)\n",
        "    return combined"
      ],
      "metadata": {
        "id": "UVjy0T8TS-cf"
      },
      "execution_count": 80,
      "outputs": []
    },
    {
      "cell_type": "code",
      "source": [
        "predictions2 = backtest(df, model2, new_predictors)"
      ],
      "metadata": {
        "id": "X3Y_si87TDPh"
      },
      "execution_count": 81,
      "outputs": []
    },
    {
      "cell_type": "code",
      "source": [
        "predictions2[\"Predictions\"].value_counts()"
      ],
      "metadata": {
        "colab": {
          "base_uri": "https://localhost:8080/"
        },
        "id": "O1otzICLTIk3",
        "outputId": "ffb44ed8-bfc2-4087-aa64-1b5cf39ff51c"
      },
      "execution_count": 72,
      "outputs": [
        {
          "output_type": "execute_result",
          "data": {
            "text/plain": [
              "0.0    3024\n",
              "1.0    1904\n",
              "Name: Predictions, dtype: int64"
            ]
          },
          "metadata": {},
          "execution_count": 72
        }
      ]
    },
    {
      "cell_type": "code",
      "source": [
        "precision_score(predictions2[\"Target\"], predictions2[\"Predictions\"])"
      ],
      "metadata": {
        "colab": {
          "base_uri": "https://localhost:8080/"
        },
        "id": "Zuf5_xo4TNm7",
        "outputId": "95c14a6e-5645-4488-915f-91a58c8ebd1a"
      },
      "execution_count": 74,
      "outputs": [
        {
          "output_type": "execute_result",
          "data": {
            "text/plain": [
              "0.5467436974789915"
            ]
          },
          "metadata": {},
          "execution_count": 74
        }
      ]
    },
    {
      "cell_type": "code",
      "source": [
        "predictions2[\"Target\"].value_counts() / predictions2.shape[0]"
      ],
      "metadata": {
        "colab": {
          "base_uri": "https://localhost:8080/"
        },
        "id": "Rw6NCyTmTNfB",
        "outputId": "9ec5ffe6-8e4c-4733-95e8-3af53b110946"
      },
      "execution_count": 75,
      "outputs": [
        {
          "output_type": "execute_result",
          "data": {
            "text/plain": [
              "1    0.544034\n",
              "0    0.455966\n",
              "Name: Target, dtype: float64"
            ]
          },
          "metadata": {},
          "execution_count": 75
        }
      ]
    },
    {
      "cell_type": "code",
      "source": [],
      "metadata": {
        "id": "IegTQGQ3Take"
      },
      "execution_count": null,
      "outputs": []
    }
  ]
}